{
 "cells": [
  {
   "cell_type": "markdown",
   "id": "f1dd08ac-fdb0-4ba9-9412-8b0bef6a3162",
   "metadata": {},
   "source": [
    "## <p style=\"text-align:center\">Interactive Dashboard with Plotly Dash"
   ]
  },
  {
   "cell_type": "markdown",
   "id": "225c86a3-e323-43b8-b84d-dc2237a539bb",
   "metadata": {},
   "source": [
    "### Introduction\n",
    "Plotly Dash application enable users to perform interactive visual analytics on SpaceX launch data. The dashboard application contains input components such as a dropdown list and a range slider to interact with a pie chart and a scatter point chart."
   ]
  },
  {
   "cell_type": "markdown",
   "id": "6eed1e3f-ac6c-4b21-a39e-55f392542afb",
   "metadata": {},
   "source": [
    "### Objective\n",
    "Build a Dashboard Application with the following input components: \n",
    "- Launch Site Drop-down Input Component\n",
    "- Callback function to render success-pie-chart based on selected site dropdown\n",
    "- Range Slider to Select Payload\n",
    "- Callback function to render the success-payload-scatter-chart scatter plot"
   ]
  },
  {
   "cell_type": "code",
   "execution_count": 4,
   "id": "2945c6f9-4f36-4e70-b98e-560a25c1673d",
   "metadata": {
    "scrolled": true
   },
   "outputs": [
    {
     "data": {
      "text/html": [
       "\n",
       "        <iframe\n",
       "            width=\"100%\"\n",
       "            height=\"650\"\n",
       "            src=\"http://localhost:8050/\"\n",
       "            frameborder=\"0\"\n",
       "            allowfullscreen\n",
       "            \n",
       "        ></iframe>\n",
       "        "
      ],
      "text/plain": [
       "<IPython.lib.display.IFrame at 0x1b471fd03e0>"
      ]
     },
     "metadata": {},
     "output_type": "display_data"
    }
   ],
   "source": [
    "import dash\n",
    "from dash import dcc\n",
    "from dash import html\n",
    "from dash.dependencies import Input, Output\n",
    "import pandas as pd\n",
    "import plotly.graph_objs as go\n",
    "import plotly.express as px\n",
    "\n",
    "spacex_df = pd.read_csv('https://cf-courses-data.s3.us.cloud-object-storage.appdomain.cloud/IBM-DS0321EN-SkillsNetwork/datasets/spacex_launch_dash.csv')\n",
    "\n",
    "# Reading the airline data into pandas dataframe\n",
    "# spacex_df = pd.read_csv(\"spacex_launch_dash.csv\")\n",
    "max_payload = spacex_df['Payload Mass (kg)'].max()\n",
    "min_payload = spacex_df['Payload Mass (kg)'].min()\n",
    "\n",
    "# Creating a dash application\n",
    "app = dash.Dash(__name__)\n",
    "\n",
    "# Creating an app layout\n",
    "app.layout = html.Div(children=[html.H1('SpaceX Launch Records Dashboard',\n",
    "                                        style={'textAlign': 'center', 'color': '#503D36',\n",
    "                                               'font-size': 40}),\n",
    "                                # Adding a dropdown list to enable Launch Site selection\n",
    "                                dcc.Dropdown(id='site-dropdown',\n",
    "                                             options=[\n",
    "                                                     {'label': 'All Sites', 'value': 'ALL'},\n",
    "                                                     {'label': 'CCAFS LC-40', 'value': 'CCAFS LC-40'},\n",
    "                                                     {'label': 'VAFB SLC-4E', 'value': 'VAFB SLC-4E'},\n",
    "                                                     {'label': 'KSC LC-39A', 'value': 'KSC LC-39A'},\n",
    "                                                     {'label': 'CCAFS SLC-40', 'value': 'CCAFS SLC-40'}\n",
    "                                                     ],\n",
    "                                             value='ALL',\n",
    "                                             placeholder='Select a Launch Site here',\n",
    "                                             searchable=True\n",
    "                                             # style={'width':'80%','padding':'3px','font-size':'20px','text-align-last':'center'}\n",
    "                                             ),\n",
    "                                html.Br(),\n",
    "\n",
    "                                # Adding a pie chart to show the total successful launches count for all sites\n",
    "                                # If a specific launch site was selected, it shows the Success vs. Failed counts for the site\n",
    "                                html.Div(dcc.Graph(id='success-pie-chart')),\n",
    "                                html.Br(),\n",
    "\n",
    "                                html.P(\"Payload range (Kg):\"),\n",
    "                                # Adding a slider to select payload range\n",
    "                                dcc.RangeSlider(id='payload-slider',\n",
    "                                                min=0,\n",
    "                                                max=10000,\n",
    "                                                step=1000,\n",
    "                                                value=[min_payload, max_payload]\n",
    "                                                ),\n",
    "\n",
    "                                # Adding a scatter chart to show the correlation between payload and launch success\n",
    "                                html.Div(dcc.Graph(id='success-payload-scatter-chart')),\n",
    "                                ])\n",
    "\n",
    "# Adding a callback function for `site-dropdown` as input, `success-pie-chart` as output\n",
    "@app.callback(Output(component_id='success-pie-chart', component_property='figure'),\n",
    "              Input(component_id='site-dropdown', component_property='value'))\n",
    "def get_pie_chart(entered_site):\n",
    "    filtered_df = spacex_df\n",
    "    if entered_site == 'ALL':\n",
    "        fig = px.pie(filtered_df, values='class', \n",
    "        names='Launch Site', \n",
    "        title='Success Count for all launch sites')\n",
    "        return fig\n",
    "    else:\n",
    "        # return the outcomes piechart for a selected site\n",
    "        filtered_df=spacex_df[spacex_df['Launch Site']== entered_site]\n",
    "        filtered_df=filtered_df.groupby(['Launch Site','class']).size().reset_index(name='class count')\n",
    "        fig=px.pie(filtered_df,values='class count',names='class',title=f\"Total Success Launches for site {entered_site}\")\n",
    "        return fig\n",
    "\n",
    "# Adding a callback function for `site-dropdown` and `payload-slider` as inputs, `success-payload-scatter-chart` as output\n",
    "@app.callback(Output(component_id='success-payload-scatter-chart',component_property='figure'),\n",
    "                [Input(component_id='site-dropdown',component_property='value'),\n",
    "                Input(component_id='payload-slider',component_property='value')])\n",
    "def scatter(entered_site,payload):\n",
    "    filtered_df2 = spacex_df[spacex_df['Payload Mass (kg)'].between(payload[0],payload[1])]\n",
    "    \n",
    "    if entered_site=='ALL':\n",
    "        fig=px.scatter(filtered_df2,x='Payload Mass (kg)',y='class',color='Booster Version Category',title='Success count on Payload mass for all sites')\n",
    "        return fig\n",
    "    else:\n",
    "        fig=px.scatter(filtered_df2[filtered_df2['Launch Site']==entered_site],x='Payload Mass (kg)',y='class',color='Booster Version Category',title=f\"Success count on Payload mass for site {entered_site}\")\n",
    "        return fig\n",
    "\n",
    "# Running the app\n",
    "if __name__ == '__main__':\n",
    "    app.run_server(mode='inline', host='localhost')\n",
    " "
   ]
  },
  {
   "cell_type": "markdown",
   "id": "ba62a9d7-aa4e-4c7e-b826-2226e9d6cdd2",
   "metadata": {},
   "source": [
    "- Launch Site KSC LC-39A has the highest launch successful launches followed by CCAFS LC-40 and VAFB SLC-4E while CCAFS SLC-40 has the lowest launch successful launches\n",
    "- KSC LC-39A Launch Site has the highest launch success rate and count\n",
    "  1. Launch success rate is 76.9%\n",
    "  2. Launch failure rate is 23.1%\n",
    "- Most successful launches are in the payload range from 2000 to about 5500\n",
    "- Booster version category ‘FT’ has the most successful launches\n",
    "- Only booster with a success launch when payload is greater than 6k is ‘B4’\n"
   ]
  },
  {
   "cell_type": "code",
   "execution_count": null,
   "id": "553026b6-9c80-4c43-b82e-62cce3c8cee9",
   "metadata": {},
   "outputs": [],
   "source": []
  }
 ],
 "metadata": {
  "kernelspec": {
   "display_name": "Python [conda env:base] *",
   "language": "python",
   "name": "conda-base-py"
  },
  "language_info": {
   "codemirror_mode": {
    "name": "ipython",
    "version": 3
   },
   "file_extension": ".py",
   "mimetype": "text/x-python",
   "name": "python",
   "nbconvert_exporter": "python",
   "pygments_lexer": "ipython3",
   "version": "3.12.4"
  }
 },
 "nbformat": 4,
 "nbformat_minor": 5
}
